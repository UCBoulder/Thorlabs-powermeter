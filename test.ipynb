{
 "cells": [
  {
   "cell_type": "code",
   "execution_count": 1,
   "metadata": {},
   "outputs": [
    {
     "name": "stderr",
     "output_type": "stream",
     "text": [
      "c:\\Users\\kaufmanlab\\Desktop\\power meter\\TLPMX.py:292: SyntaxWarning: invalid escape sequence '\\P'\n",
      "  dllabspath = \"C:\\Program Files\\IVI Foundation\\VISA\\Win64\\Bin\\TLPMX_64.dll\"\n",
      "c:\\Users\\kaufmanlab\\Desktop\\power meter\\TLPMX.py:297: SyntaxWarning: invalid escape sequence '\\P'\n",
      "  dllabspath = \"C:\\Program Files\\IVI Foundation\\VISA\\Win64\\Bin\\TLPMX_64.dll\"\n"
     ]
    }
   ],
   "source": [
    "from datetime import datetime\n",
    "from ctypes import cdll,c_long, c_ulong, c_uint32,byref,create_string_buffer,c_bool,c_char_p,c_int,c_int16,c_double, sizeof, c_voidp\n",
    "from TLPMX import TLPMX\n",
    "import time\n",
    "\n",
    "from TLPMX import TLPM_DEFAULT_CHANNEL"
   ]
  },
  {
   "cell_type": "code",
   "execution_count": 6,
   "metadata": {},
   "outputs": [
    {
     "name": "stdout",
     "output_type": "stream",
     "text": [
      "Number of found devices: 1\n",
      "\n",
      "Resource name of device 0 : b'USB0::0x1313::0x8078::P0045353::INSTR'\n",
      "\n"
     ]
    }
   ],
   "source": [
    "# Find connected power meter devices.\n",
    "tlPM = TLPMX()\n",
    "deviceCount = c_uint32()\n",
    "tlPM.findRsrc(byref(deviceCount))\n",
    "\n",
    "print(\"Number of found devices: \" + str(deviceCount.value))\n",
    "print(\"\")\n",
    "\n",
    "resourceName = create_string_buffer(1024)\n",
    "\n",
    "for i in range(0, deviceCount.value):\n",
    "    tlPM.getRsrcName(c_int(i), resourceName)\n",
    "    print(\"Resource name of device\", i, \":\", c_char_p(resourceName.raw).value)\n",
    "print(\"\")\n",
    "err = tlPM.close()"
   ]
  },
  {
   "cell_type": "code",
   "execution_count": 7,
   "metadata": {},
   "outputs": [
    {
     "name": "stdout",
     "output_type": "stream",
     "text": [
      "Connected to device 0\n",
      "Last calibration date:  b'13-Feb-2024'\n",
      "\n",
      "2024-11-13 21:48:44.829347 : 3.64508924e-05 W\n",
      "2024-11-13 21:48:45.838268 : 3.65711421e-05 W\n",
      "2024-11-13 21:48:46.845826 : 3.64508924e-05 W\n",
      "2024-11-13 21:48:47.863400 : 3.65735032e-05 W\n",
      "2024-11-13 21:48:48.878422 : 3.65192718e-05 W\n",
      "\n",
      "End program\n"
     ]
    }
   ],
   "source": [
    "# Connect to last device.\n",
    "tlPM = TLPMX()\n",
    "tlPM.open(resourceName, c_bool(True), c_bool(True))\n",
    "\n",
    "message = create_string_buffer(1024)\n",
    "tlPM.getCalibrationMsg(message,TLPM_DEFAULT_CHANNEL)\n",
    "print(\"Connected to device\", i)\n",
    "print(\"Last calibration date: \",c_char_p(message.raw).value)\n",
    "print(\"\")\n",
    "\n",
    "time.sleep(2)\n",
    "\n",
    "# Set wavelength in nm.\n",
    "wavelength = c_double(671)\n",
    "tlPM.setWavelength(wavelength,TLPM_DEFAULT_CHANNEL)\n",
    "\n",
    "# Enable auto-range mode.\n",
    "# 0 -> auto-range disabled\n",
    "# 1 -> auto-range enabled\n",
    "tlPM.setPowerAutoRange(c_int16(1),TLPM_DEFAULT_CHANNEL)\n",
    "\n",
    "# Set power unit to Watt.\n",
    "# 0 -> Watt\n",
    "# 1 -> dBm\n",
    "tlPM.setPowerUnit(c_int16(0),TLPM_DEFAULT_CHANNEL)\n",
    "\n",
    "# Take power measurements and save results to arrays.\n",
    "power_measurements = []\n",
    "times = []\n",
    "count = 0\n",
    "while count < 5:\n",
    "    power =  c_double()\n",
    "    tlPM.measPower(byref(power),TLPM_DEFAULT_CHANNEL)\n",
    "    power_measurements.append(power.value)\n",
    "    times.append(datetime.now())\n",
    "    print(times[count], \":\", power_measurements[count], \"W\")\n",
    "    count+=1\n",
    "    time.sleep(1)\n",
    "print(\"\")\n",
    "\n",
    "# Close power meter connection.\n",
    "tlPM.close()\n",
    "print('End program')\n"
   ]
  },
  {
   "cell_type": "code",
   "execution_count": null,
   "metadata": {},
   "outputs": [],
   "source": []
  }
 ],
 "metadata": {
  "kernelspec": {
   "display_name": "Python 3",
   "language": "python",
   "name": "python3"
  },
  "language_info": {
   "codemirror_mode": {
    "name": "ipython",
    "version": 3
   },
   "file_extension": ".py",
   "mimetype": "text/x-python",
   "name": "python",
   "nbconvert_exporter": "python",
   "pygments_lexer": "ipython3",
   "version": "3.12.0"
  }
 },
 "nbformat": 4,
 "nbformat_minor": 2
}
